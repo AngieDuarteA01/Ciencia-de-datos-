{
  "nbformat": 4,
  "nbformat_minor": 0,
  "metadata": {
    "colab": {
      "provenance": [],
      "authorship_tag": "ABX9TyODKr3xrCAf/SO6CANQPMYR",
      "include_colab_link": true
    },
    "kernelspec": {
      "name": "python3",
      "display_name": "Python 3"
    },
    "language_info": {
      "name": "python"
    }
  },
  "cells": [
    {
      "cell_type": "markdown",
      "metadata": {
        "id": "view-in-github",
        "colab_type": "text"
      },
      "source": [
        "<a href=\"https://colab.research.google.com/github/AngieDuarteA01/Ciencia-de-datos-/blob/main/Operador_terniario.ipynb\" target=\"_parent\"><img src=\"https://colab.research.google.com/assets/colab-badge.svg\" alt=\"Open In Colab\"/></a>"
      ]
    },
    {
      "cell_type": "code",
      "execution_count": null,
      "metadata": {
        "colab": {
          "base_uri": "https://localhost:8080/"
        },
        "id": "wnzv1sAspooe",
        "outputId": "c27888c7-5514-4331-cf3e-f4e84d94b245"
      },
      "outputs": [
        {
          "output_type": "stream",
          "name": "stdout",
          "text": [
            "ingrese un numero: 9\n",
            "9 es impar\n"
          ]
        }
      ],
      "source": [
        "num=int(input(\"ingrese un numero: \"))\n",
        "print(f\"{num} es par\") if num % 2 == 0 else print(f\"{num} es impar\")\n"
      ]
    },
    {
      "cell_type": "code",
      "source": [
        "def dia(num):\n",
        "    print(\"Lunes\")"
      ],
      "metadata": {
        "id": "ftK0Gm_uIpvg"
      },
      "execution_count": null,
      "outputs": []
    },
    {
      "cell_type": "code",
      "source": [
        "n1=float(input(\"escribe un número: \"))\n",
        "\n",
        "print(f\"{n1} es par\") if n1 % 2 == 0 else print(f\"{n1} es impar\")\n",
        "fun= n1%2\n"
      ],
      "metadata": {
        "colab": {
          "base_uri": "https://localhost:8080/"
        },
        "id": "-U5KYgNgrirF",
        "outputId": "44233361-10d4-4681-a72f-334edcb25e6c"
      },
      "execution_count": null,
      "outputs": [
        {
          "output_type": "stream",
          "name": "stdout",
          "text": [
            "escribe un número: 88\n",
            "88.0 es par\n"
          ]
        }
      ]
    },
    {
      "cell_type": "code",
      "source": [
        "año=int(input(\"Ingresa el año: \"))\n",
        "\n",
        "prueba1=año%4\n",
        "p2=año%400\n",
        "\n",
        "print(\"el año es bisiesto\") if prueba1==0 or p2==0 else print(\"el año no es bisiesto\")"
      ],
      "metadata": {
        "colab": {
          "base_uri": "https://localhost:8080/"
        },
        "id": "xKrQpCOsr3Pl",
        "outputId": "05bac0ac-1a41-4ac5-bec9-c2ca1bea2bce"
      },
      "execution_count": null,
      "outputs": [
        {
          "output_type": "stream",
          "name": "stdout",
          "text": [
            "Ingresa el año: 2004\n",
            "el año es bisiesto\n"
          ]
        }
      ]
    },
    {
      "cell_type": "code",
      "source": [
        "Nom=input(\"Cual es tu nombre?\")\n",
        "edad=int(input(\"Cual es tu edad?\"))\n",
        "\n",
        "print(\"El señor/a \" + Nom + \"tiene prioridad en la fila\") if edad>70 else print(\"El señ@r \" + Nom + \"no tiene prioridad en la fila\")\n",
        "\n"
      ],
      "metadata": {
        "colab": {
          "base_uri": "https://localhost:8080/"
        },
        "id": "VeGYzT6FsN40",
        "outputId": "82f8b31c-9b7f-41a3-e4cd-d7df5e939154"
      },
      "execution_count": null,
      "outputs": [
        {
          "output_type": "stream",
          "name": "stdout",
          "text": [
            "Cual es tu nombre?ana \n",
            "Cual es tu edad?13\n",
            "El señ@r ana no tiene prioridad en la fila\n"
          ]
        }
      ]
    },
    {
      "cell_type": "code",
      "source": [
        "n1=float(input(\"escribe un número\"))\n",
        "n2=float(input(\"escribe otro número\"))\n",
        "n3=float(input(\"escribe otro número\"))\n",
        "\n",
        "print(\"el mayor es \"+ str(n1)) if n1>n2 and n1>n3 else print(\"el mayor es \"+ str(n2)) if n2>n3  else print(\"el mayor es \"+ str(n3))\n"
      ],
      "metadata": {
        "colab": {
          "base_uri": "https://localhost:8080/"
        },
        "id": "Y_F_H3iYsykM",
        "outputId": "5dec8683-2659-4038-c42e-3fbcd373fb8b"
      },
      "execution_count": null,
      "outputs": [
        {
          "output_type": "stream",
          "name": "stdout",
          "text": [
            "escribe un número2\n",
            "escribe otro número3\n",
            "escribe otro número5\n",
            "el mayor es 5.0\n"
          ]
        }
      ]
    },
    {
      "cell_type": "code",
      "source": [
        "#10.Crea un programa que determine si un triángulo es equilátero, isósceles o escaleno según sus lados.\n",
        "\n",
        "l1=int(input(\"Cual es la longitud del primer lado?\"))\n",
        "l2=int(input(\"Cual es la longitud del segundo lado?\"))\n",
        "l3=int(input(\"Cual es la longitud del tercer lado?\"))\n",
        "\n",
        "print(\"el triangulo es equilatero\") if l1==l2 and l1==l3 and l2==l3 else print(\"el triangulo es isoceles\") if l1==l2 or l2==l3 or l1==l3 else print(\"el triangulo es escaleno\")\n",
        "\n"
      ],
      "metadata": {
        "colab": {
          "base_uri": "https://localhost:8080/"
        },
        "id": "b7vRREuPu0S8",
        "outputId": "d806eaaf-7bd2-40a6-ae79-261e3e8caa14"
      },
      "execution_count": null,
      "outputs": [
        {
          "output_type": "stream",
          "name": "stdout",
          "text": [
            "Cual es la longitud del primer lado?2\n",
            "Cual es la longitud del segundo lado?4\n",
            "Cual es la longitud del tercer lado?3\n",
            "el triangulo es escaleno\n"
          ]
        }
      ]
    },
    {
      "cell_type": "markdown",
      "source": [
        "#*LAMBA*(15-25)"
      ],
      "metadata": {
        "id": "IOOgg3SDvjRr"
      }
    },
    {
      "cell_type": "code",
      "source": [
        "#15 Desarrolla un programa que valide si tres números pueden formar un triángulo y de qué tipo es\n",
        "\n",
        "#la longitud de dos de sus lados debe ser mayor a la longitud del tercer lado.\n",
        "\n",
        "a=float(input(\"Ingrese el primer lado: \"))\n",
        "b=float(input(\"Ingrese el segundo lado: \"))\n",
        "c=float(input(\"Ingrese el tercer lado: \"))\n",
        "\n",
        "if a+b>c and a+c>b and b+c>a:\n",
        "    print(\"Es un triangulo\")\n",
        "else :\n",
        "      print(\"No es un triangulo\")\n",
        "\n",
        "if a==b and a==c and b==c:\n",
        "  print(\"el triangulo es equilatero\")\n",
        "elif a==b or b==c or a==c :\n",
        "  print(\"el triangulo es isoceles\")\n",
        "else:\n",
        "  print(\"el triangulo es escaleno\")"
      ],
      "metadata": {
        "id": "SHNM0cSwxJ1y"
      },
      "execution_count": null,
      "outputs": []
    },
    {
      "cell_type": "code",
      "source": [
        "seronoser = lambda a,b,c: \"Es un triangulo\" if a+b>c and a+c>b and b+c>a else \"No es un triangulo\""
      ],
      "metadata": {
        "id": "81K7P4KH0NWQ"
      },
      "execution_count": null,
      "outputs": []
    },
    {
      "cell_type": "code",
      "source": [
        "comparar = lambda a,b,c: \"el triangulo es equilatero\" if a==b and a==c and b==c else \"el triangulo es isoceles\" if a==b or b==c or a==c else \"el triangulo es escaleno\""
      ],
      "metadata": {
        "id": "KLLp_xdQ01Ow"
      },
      "execution_count": null,
      "outputs": []
    },
    {
      "cell_type": "code",
      "source": [
        "a=float(input(\"Ingrese el primer lado: \"))\n",
        "b=float(input(\"Ingrese el segundo lado: \"))\n",
        "c=float(input(\"Ingrese el tercer lado: \"))"
      ],
      "metadata": {
        "colab": {
          "base_uri": "https://localhost:8080/"
        },
        "id": "-zS6n0T407Ko",
        "outputId": "9ff3c34b-5eb5-4c10-bab8-1904cecc0a1a"
      },
      "execution_count": null,
      "outputs": [
        {
          "name": "stdout",
          "output_type": "stream",
          "text": [
            "Ingrese el primer lado: 8\n",
            "Ingrese el segundo lado: 7\n",
            "Ingrese el tercer lado: 6\n"
          ]
        }
      ]
    },
    {
      "cell_type": "code",
      "source": [
        "seronoser(a,b,c)"
      ],
      "metadata": {
        "colab": {
          "base_uri": "https://localhost:8080/",
          "height": 35
        },
        "id": "RPW4J8S41ITY",
        "outputId": "deb14d32-2e5d-46c9-8fa7-9379125998b5"
      },
      "execution_count": null,
      "outputs": [
        {
          "output_type": "execute_result",
          "data": {
            "text/plain": [
              "'Es un triangulo'"
            ],
            "application/vnd.google.colaboratory.intrinsic+json": {
              "type": "string"
            }
          },
          "metadata": {},
          "execution_count": 26
        }
      ]
    },
    {
      "cell_type": "code",
      "source": [
        "comparar(a,b,c)"
      ],
      "metadata": {
        "colab": {
          "base_uri": "https://localhost:8080/",
          "height": 35
        },
        "id": "VkslRbiA1AF4",
        "outputId": "0a9daf96-7913-4653-ff17-03484a0c80b2"
      },
      "execution_count": null,
      "outputs": [
        {
          "output_type": "execute_result",
          "data": {
            "text/plain": [
              "'el triangulo es escaleno'"
            ],
            "application/vnd.google.colaboratory.intrinsic+json": {
              "type": "string"
            }
          },
          "metadata": {},
          "execution_count": 27
        }
      ]
    },
    {
      "cell_type": "code",
      "source": [
        "#16.Crea un programa que muestre la tabla de multiplicar de un número hasta el 10\n",
        "\n",
        "num=int(input(\"Ingrese un numero: \"))\n",
        "\n",
        "for i in range(1,11):\n",
        "    print(num,\"x\",i,\"=\",num*i)"
      ],
      "metadata": {
        "id": "jXAWl5Ta10yC"
      },
      "execution_count": null,
      "outputs": []
    },
    {
      "cell_type": "code",
      "source": [
        "multi = lambda num : [num*i for i in range(10)]"
      ],
      "metadata": {
        "id": "y0jVK5jp13TQ"
      },
      "execution_count": null,
      "outputs": []
    },
    {
      "cell_type": "code",
      "source": [
        "multi(5)"
      ],
      "metadata": {
        "colab": {
          "base_uri": "https://localhost:8080/"
        },
        "id": "5637dU7v4Cdv",
        "outputId": "25c5fe3f-b5da-40eb-b490-2c95d2491850"
      },
      "execution_count": null,
      "outputs": [
        {
          "output_type": "execute_result",
          "data": {
            "text/plain": [
              "[0, 5, 10, 15, 20, 25, 30, 35, 40, 45]"
            ]
          },
          "metadata": {},
          "execution_count": 43
        }
      ]
    },
    {
      "cell_type": "code",
      "source": [
        "multiplicar= lambda num: [(num,\"x\",i,\"=\",num*i) for i in range(9)]"
      ],
      "metadata": {
        "id": "c7IAq8_42xaP"
      },
      "execution_count": null,
      "outputs": []
    },
    {
      "cell_type": "code",
      "source": [
        "multiplicar(5)"
      ],
      "metadata": {
        "id": "oWMUtgz43eaI"
      },
      "execution_count": null,
      "outputs": []
    },
    {
      "cell_type": "code",
      "source": [
        "#17\n",
        "suma= lambda num1,num2:[\"la suma es igual a \"+ str(num1+num2)]"
      ],
      "metadata": {
        "id": "gGgD0s50XqpJ"
      },
      "execution_count": null,
      "outputs": []
    },
    {
      "cell_type": "code",
      "source": [
        "suma(1,2)"
      ],
      "metadata": {
        "colab": {
          "base_uri": "https://localhost:8080/"
        },
        "id": "C_172mUGXqtS",
        "outputId": "d951031e-9357-4e5b-b2c8-a1ddfa90df32"
      },
      "execution_count": null,
      "outputs": [
        {
          "output_type": "execute_result",
          "data": {
            "text/plain": [
              "['la suma es igual a 3']"
            ]
          },
          "metadata": {},
          "execution_count": 2
        }
      ]
    },
    {
      "cell_type": "code",
      "source": [
        "#18. Desarrolla un programa que calcule el factorial de un número. Recuerda que el factorial de 0 es 1 y no existen factoriales negativos.\n",
        "\n",
        "num=int(input(\"Ingrese un numero: \"))\n",
        "factorial=1\n",
        "for i in range(1,num+1):\n",
        "    factorial=factorial*i\n",
        "print(\"El factorial de\",num,\"es\",factorial)"
      ],
      "metadata": {
        "colab": {
          "base_uri": "https://localhost:8080/"
        },
        "id": "w-FwOfR9ZAAI",
        "outputId": "74ca727c-31a6-431c-b7c6-1afc84af5d6c"
      },
      "execution_count": null,
      "outputs": [
        {
          "output_type": "stream",
          "name": "stdout",
          "text": [
            "Ingrese un numero: 3\n",
            "El factorial de 3 es 6\n"
          ]
        }
      ]
    },
    {
      "cell_type": "code",
      "source": [],
      "metadata": {
        "id": "7IVPedKMhv0I"
      },
      "execution_count": null,
      "outputs": []
    },
    {
      "cell_type": "code",
      "source": [
        "factorial = lambda num: [(\"el factorial de\" + str(num) + \"es\" + str(factorial)) for i in range (1,num+1)]"
      ],
      "metadata": {
        "id": "012weB8tZAER"
      },
      "execution_count": null,
      "outputs": []
    },
    {
      "cell_type": "code",
      "source": [
        "factorial(3)"
      ],
      "metadata": {
        "colab": {
          "base_uri": "https://localhost:8080/"
        },
        "id": "jNj0MydxPgFu",
        "outputId": "e467781e-420b-4fb6-ec79-d50a8f3f3f06"
      },
      "execution_count": null,
      "outputs": [
        {
          "output_type": "execute_result",
          "data": {
            "text/plain": [
              "['el factorial de3es<function <lambda> at 0x7b5620bd4180>',\n",
              " 'el factorial de3es<function <lambda> at 0x7b5620bd4180>',\n",
              " 'el factorial de3es<function <lambda> at 0x7b5620bd4180>']"
            ]
          },
          "metadata": {},
          "execution_count": 16
        }
      ]
    }
  ]
}