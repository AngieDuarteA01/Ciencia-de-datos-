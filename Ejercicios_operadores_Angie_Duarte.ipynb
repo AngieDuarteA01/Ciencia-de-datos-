{
  "nbformat": 4,
  "nbformat_minor": 0,
  "metadata": {
    "colab": {
      "provenance": []
    },
    "kernelspec": {
      "name": "python3",
      "display_name": "Python 3"
    },
    "language_info": {
      "name": "python"
    }
  },
  "cells": [
    {
      "cell_type": "code",
      "source": [
        "#Ejercicio 1 ,escribe un programa que calcule el área de un triángulo pidiendo base y altura al usuario\n",
        "\n",
        "area=lambda x,y: [\"el área del triangulo es de \"+ str((x*y)/2) ]"
      ],
      "metadata": {
        "id": "IdF5x66lfECc"
      },
      "execution_count": null,
      "outputs": []
    },
    {
      "cell_type": "code",
      "source": [
        "area(1,1)"
      ],
      "metadata": {
        "colab": {
          "base_uri": "https://localhost:8080/"
        },
        "id": "jNY1pQWff5gT",
        "outputId": "bb021b1a-58a5-43ef-e315-4af9d28641cb"
      },
      "execution_count": null,
      "outputs": [
        {
          "output_type": "execute_result",
          "data": {
            "text/plain": [
              "['el área del triangulo es de 0.5']"
            ]
          },
          "metadata": {},
          "execution_count": 8
        }
      ]
    },
    {
      "cell_type": "code",
      "source": [
        "#Ejercicio 2,crea un programa que convierta grados Celsius a Fahrenheit usando la fórmula: °F = (°C × 9/5) + 32\n",
        "\n",
        "\n",
        "conver=lambda c: [\"estas en fahrenheir en \"+ str(float((c*9/5)+32))+ \" si estas a \"+ str(c)+ \" grados celsious\"]"
      ],
      "metadata": {
        "id": "lFQe7ugvgTGi"
      },
      "execution_count": null,
      "outputs": []
    },
    {
      "cell_type": "code",
      "source": [
        "conver(36)"
      ],
      "metadata": {
        "colab": {
          "base_uri": "https://localhost:8080/"
        },
        "id": "WYVo1Gt7gqdz",
        "outputId": "abad9adf-9589-4309-a332-151c090ffbe4"
      },
      "execution_count": null,
      "outputs": [
        {
          "output_type": "execute_result",
          "data": {
            "text/plain": [
              "['estas en fahrenheir en 96.8 si estas a 36 grados celsious']"
            ]
          },
          "metadata": {},
          "execution_count": 11
        }
      ]
    },
    {
      "cell_type": "code",
      "source": [
        "#Ejercicio 3,desarrolla un programa que calcule el promedio de tres números ingresados por el usuario.\n",
        "prom=lambda x,y,z: [\"el promedio es \"+ str((x+y+z)/3)]"
      ],
      "metadata": {
        "id": "2E16OD7-gyDS"
      },
      "execution_count": null,
      "outputs": []
    },
    {
      "cell_type": "code",
      "source": [
        "prom(5,5,5)"
      ],
      "metadata": {
        "colab": {
          "base_uri": "https://localhost:8080/"
        },
        "id": "IUnBH4_phUSD",
        "outputId": "80b3cc58-6142-4170-90fa-1bf0192afc23"
      },
      "execution_count": null,
      "outputs": [
        {
          "output_type": "execute_result",
          "data": {
            "text/plain": [
              "['el promedio es 5.0']"
            ]
          },
          "metadata": {},
          "execution_count": 14
        }
      ]
    },
    {
      "cell_type": "code",
      "source": [
        "#Ejercicio 4,escribe un programa que calcule el perímetro y área de un círculo dado su radio.\n",
        "\n",
        "perim=lambda radio: [\"el perimetro es \"+ str(2*3.14*radio) + \" y el area es\" + str(3.14*radio**2) ]\n"
      ],
      "metadata": {
        "id": "qq6r-DyjhYHS"
      },
      "execution_count": null,
      "outputs": []
    },
    {
      "cell_type": "code",
      "source": [
        "perim (2)\n"
      ],
      "metadata": {
        "colab": {
          "base_uri": "https://localhost:8080/"
        },
        "id": "8H-WqVBdlO22",
        "outputId": "3a0a9404-f499-4557-ce9e-c2cb6437699e"
      },
      "execution_count": null,
      "outputs": [
        {
          "output_type": "execute_result",
          "data": {
            "text/plain": [
              "['el perimetro es 12.56 y el area es12.56']"
            ]
          },
          "metadata": {},
          "execution_count": 31
        }
      ]
    },
    {
      "cell_type": "code",
      "source": [
        "#Ejericio 5\n",
        "error=lambda a,b,c: [float(b**2-4*a*c)]"
      ],
      "metadata": {
        "id": "Vi-2YhW84r6W"
      },
      "execution_count": null,
      "outputs": []
    },
    {
      "cell_type": "code",
      "source": [
        "error(-6,6,7)[0]"
      ],
      "metadata": {
        "colab": {
          "base_uri": "https://localhost:8080/"
        },
        "id": "1MS5RmHp4t-k",
        "outputId": "00805fac-581f-4ca4-a1e8-91893a6b8a6b"
      },
      "execution_count": null,
      "outputs": [
        {
          "output_type": "execute_result",
          "data": {
            "text/plain": [
              "204.0"
            ]
          },
          "metadata": {},
          "execution_count": 13
        }
      ]
    },
    {
      "cell_type": "code",
      "source": [
        "print(\"las raices no pueden ser números complejos\") if error(-6,6,7)[0]<0 else print(\"se puede calcular\")"
      ],
      "metadata": {
        "colab": {
          "base_uri": "https://localhost:8080/"
        },
        "id": "lHbfpqJL45E2",
        "outputId": "d5aa716b-4772-4832-cee1-f0eac4340cc1"
      },
      "execution_count": null,
      "outputs": [
        {
          "output_type": "stream",
          "name": "stdout",
          "text": [
            "se puede calcular\n"
          ]
        }
      ]
    },
    {
      "cell_type": "code",
      "source": [
        "x1=lambda a,b,c: float((-b+((b**2)-(4*a*c))**0.5)/(2*a))\n",
        "x2=lambda a,b,c: float((-b-((b**2)-(4*a*c))**0.5)/(2*a))\n"
      ],
      "metadata": {
        "id": "2HpBTbMyztwx"
      },
      "execution_count": null,
      "outputs": []
    },
    {
      "cell_type": "code",
      "source": [
        "#Ejercicio 6:Desarrolla un programa que determine si un número es par o impar\n",
        "\n",
        "par=lambda x: [\"numero par\"] if x%2==0 else [\"numero impar\"]"
      ],
      "metadata": {
        "id": "TYXXZTTO93lF"
      },
      "execution_count": null,
      "outputs": []
    },
    {
      "cell_type": "code",
      "source": [
        "par(7)"
      ],
      "metadata": {
        "colab": {
          "base_uri": "https://localhost:8080/"
        },
        "id": "Qw5X2Sir-NjG",
        "outputId": "da4d32c6-1235-4a29-cdce-52a1b9cb8423"
      },
      "execution_count": null,
      "outputs": [
        {
          "output_type": "execute_result",
          "data": {
            "text/plain": [
              "['numero impar']"
            ]
          },
          "metadata": {},
          "execution_count": 3
        }
      ]
    },
    {
      "cell_type": "code",
      "source": [
        "#7Crea un programa que determine si un año es bisiesto (divisible por 4 y no por 100, o divisible por 400)\n",
        "\n",
        "bisiesto=lambda año: [\"el año es bisiesto\"] if año%4==0 or año%400==0 else [\"el año no es bisiesto\"]\n"
      ],
      "metadata": {
        "id": "PoPJNAi1-tEc"
      },
      "execution_count": null,
      "outputs": []
    },
    {
      "cell_type": "code",
      "source": [
        "bisiesto(2004)"
      ],
      "metadata": {
        "colab": {
          "base_uri": "https://localhost:8080/"
        },
        "id": "LfckTCFw_AsS",
        "outputId": "7c674310-72e5-46d2-a01e-cc7f46a55a5a"
      },
      "execution_count": null,
      "outputs": [
        {
          "output_type": "execute_result",
          "data": {
            "text/plain": [
              "['el año es bisiesto']"
            ]
          },
          "metadata": {},
          "execution_count": 19
        }
      ]
    },
    {
      "cell_type": "code",
      "source": [
        "#8Escribe un programa que solicite el nombre del usuario y determine si una persona pertenece\n",
        "#a la tercera edad (70 años o más) y si se cumple la condición, imprima que se le da prioridad en la fila\n",
        "\n",
        "viejo= lambda Nom,edad: [\"El señ@r \" + Nom + \"tiene prioridad en la fila\"] if edad>70 or edad==70 else [\"El señ@r \" + Nom + \"no tiene prioridad en la fila\"]\n"
      ],
      "metadata": {
        "id": "SZPCnls6AhmI"
      },
      "execution_count": null,
      "outputs": []
    },
    {
      "cell_type": "code",
      "source": [
        "viejo(\"juan\",70)"
      ],
      "metadata": {
        "colab": {
          "base_uri": "https://localhost:8080/"
        },
        "id": "hzkWAbwOBw8H",
        "outputId": "a40b147a-9a2c-49b1-9bc9-4e6c817abbdf"
      },
      "execution_count": null,
      "outputs": [
        {
          "output_type": "execute_result",
          "data": {
            "text/plain": [
              "['El señ@r juantiene prioridad en la fila']"
            ]
          },
          "metadata": {},
          "execution_count": 21
        }
      ]
    },
    {
      "cell_type": "code",
      "source": [
        "#9Desarrolla un programa que compare tres números y muestre el mayor.\n",
        "comp= lambda n1,n2,n3 : print(\"El mayor es \"+ str(n1)) if n1>n2 and n1>n3 else print(\"El mayor es \"+ str(n2)) if n2>n3 else print(\"El mayor es \"+ str(n3))"
      ],
      "metadata": {
        "id": "6VZjYu8UB5nJ"
      },
      "execution_count": null,
      "outputs": []
    },
    {
      "cell_type": "code",
      "source": [
        "comp(3,5,6)"
      ],
      "metadata": {
        "colab": {
          "base_uri": "https://localhost:8080/"
        },
        "id": "dCLYuP5CCf6C",
        "outputId": "83e60d6d-d333-4dfb-ed07-6c8390de362d"
      },
      "execution_count": null,
      "outputs": [
        {
          "output_type": "stream",
          "name": "stdout",
          "text": [
            "El mayor es 6\n"
          ]
        }
      ]
    },
    {
      "cell_type": "code",
      "source": [
        "#10.Crea un programa que determine si un triángulo es equilátero, isósceles o escaleno según sus lados.\n",
        "\n",
        "clas=lambda l1,l2,l3: print(\"el triangulo es equilatero\") if l1==l2 and l1==l3 and l2==l3 else print(\"el triangulo es isoceles\") if l1==l2 or l1==l3 or l2==l3 else print(\"el triangulo es escaleno\")"
      ],
      "metadata": {
        "id": "tiWcF7IYCl2F"
      },
      "execution_count": null,
      "outputs": []
    },
    {
      "cell_type": "code",
      "source": [
        "clas(3,6,6)"
      ],
      "metadata": {
        "colab": {
          "base_uri": "https://localhost:8080/"
        },
        "id": "0xaQuJhbGg6x",
        "outputId": "f762fd60-893e-4206-e85d-8142ef1dc38d"
      },
      "execution_count": null,
      "outputs": [
        {
          "output_type": "stream",
          "name": "stdout",
          "text": [
            "el triangulo es isoceles\n"
          ]
        }
      ]
    },
    {
      "cell_type": "code",
      "source": [
        "#11Escribe un programa que calcule el índice de masa corporal (IMC) y determine la categoría (bajo peso,  normal, sobrepeso, obesidad).\n",
        "#Al final, el programa debe imprimir: el nombre del usuario, su categoría y una breve descripción de lo que debe hacer de acuerdo a su categoría.\n",
        "\n",
        "imc=lambda peso,altura: print(\"Tu inmc es de \" + str(peso/(altura)**2) + \" siginifca que debes subir de paso \") if peso/(altura)**2<18.5 else print(\"Tu inmc es de \" + str(peso/(altura)**2) + \" siginifca que estas en tu peso ideal\" )if peso/(altura)**2>18.5 and peso/(altura)**2<24.9 else print(\"Tu inmc es de \" + str(peso/(altura)**2) + \" siginifca que debes bajar de peso \") if peso/(altura)**2>24.9 else print(\"Tu IMC es de \" + str(peso/(altura)**2) + \"significa que tienes obesidad\")"
      ],
      "metadata": {
        "id": "j4dWgg4dGnpR"
      },
      "execution_count": null,
      "outputs": []
    },
    {
      "cell_type": "code",
      "source": [
        "imc(70,1.92)"
      ],
      "metadata": {
        "colab": {
          "base_uri": "https://localhost:8080/"
        },
        "id": "Tc7zuvmnJ7zi",
        "outputId": "85002de8-5728-41e0-e2f0-11187b72aab4"
      },
      "execution_count": null,
      "outputs": [
        {
          "output_type": "stream",
          "name": "stdout",
          "text": [
            "Tu inmc es de 18.98871527777778 siginifca que estas en tu peso ideal\n"
          ]
        }
      ]
    },
    {
      "cell_type": "code",
      "source": [
        "#12 operador de dos numeros\n",
        "cal=lambda n1,operacion,n2: print(n1+n2) if operacion==\"+\" else print(n1-n2) if operacion==\"-\" else print(n1*n2) if operacion==\"*\" else print(n1/n2) if operacion==\"/\" else print(n1/n2)"
      ],
      "metadata": {
        "id": "2PE0uE8gKiN7"
      },
      "execution_count": null,
      "outputs": []
    },
    {
      "cell_type": "code",
      "source": [
        "cal(3,\"+\",7)"
      ],
      "metadata": {
        "colab": {
          "base_uri": "https://localhost:8080/"
        },
        "id": "dIW73P7CLlfr",
        "outputId": "4fcc8fb5-e95f-46e5-a318-7c774d2bc58e"
      },
      "execution_count": null,
      "outputs": [
        {
          "output_type": "stream",
          "name": "stdout",
          "text": [
            "10\n"
          ]
        }
      ]
    },
    {
      "cell_type": "code",
      "source": [
        "#13 Crea un programa que determine la calificación en letras (A, B, C, D, F) según una nota numérica (0-100)\n",
        "\n",
        "conver =lambda num : print(\"La nota es A\") if num>=90 else print(\"La nota es F\") if num<50 else print(\"La nota es D\") if num>=50 and num<70 else print(\"La nota es C\") if num>=70 and num<79 else print(\"La nota es B\")"
      ],
      "metadata": {
        "id": "2oMh5ysyLxpA"
      },
      "execution_count": null,
      "outputs": []
    },
    {
      "cell_type": "code",
      "source": [
        "conver(50)"
      ],
      "metadata": {
        "colab": {
          "base_uri": "https://localhost:8080/"
        },
        "id": "pnXzzn_TMuVC",
        "outputId": "d170f67d-9596-48a5-8b4a-109834c5463d"
      },
      "execution_count": null,
      "outputs": [
        {
          "output_type": "stream",
          "name": "stdout",
          "text": [
            "La nota es D\n"
          ]
        }
      ]
    },
    {
      "cell_type": "code",
      "source": [
        "#14 Escribe un programa que determine el día de la semana según un número (1-7).\n",
        "\n",
        "semana=lambda num: print(\"Lunes\") if num==1 else print(\"Martes\") if num==2 else print(\"Miercoles\") if num==3 else print(\"Jueves\") if num==4 else print(\"Viernes\") if num==5 else print(\"Sabado\") if num==6 else print(\"Domingo\")"
      ],
      "metadata": {
        "id": "fTOHmPEmNlmB"
      },
      "execution_count": null,
      "outputs": []
    },
    {
      "cell_type": "code",
      "source": [
        "semana(1)"
      ],
      "metadata": {
        "colab": {
          "base_uri": "https://localhost:8080/"
        },
        "id": "eglPGN0cN5A6",
        "outputId": "c8a068dc-20a6-4979-8358-595d5127571d"
      },
      "execution_count": null,
      "outputs": [
        {
          "output_type": "stream",
          "name": "stdout",
          "text": [
            "Lunes\n"
          ]
        }
      ]
    },
    {
      "cell_type": "code",
      "source": [
        "#15 Desarrolla un programa que valide si tres números pueden formar un triángulo y de qué tipo es\n",
        "\n",
        "#la longitud de dos de sus lados debe ser mayor a la longitud del tercer lado.\n",
        "\n",
        "seronoser = lambda a,b,c: \"Es un triangulo\" if a+b>c and a+c>b and b+c>a else \"No es un triangulo\""
      ],
      "metadata": {
        "id": "DAo6XhqiN7Su"
      },
      "execution_count": null,
      "outputs": []
    },
    {
      "cell_type": "code",
      "source": [
        "comparar = lambda a,b,c: \"el triangulo es equilatero\" if a==b and a==c and b==c else \"el triangulo es isoceles\" if a==b or b==c or a==c else \"el triangulo es escaleno\""
      ],
      "metadata": {
        "id": "KLLp_xdQ01Ow"
      },
      "execution_count": null,
      "outputs": []
    },
    {
      "cell_type": "code",
      "source": [
        "#16.Crea un programa que muestre la tabla de multiplicar de un número hasta el 10\n"
      ],
      "metadata": {
        "id": "_vfZbI2LOT53"
      },
      "execution_count": null,
      "outputs": []
    },
    {
      "cell_type": "code",
      "source": [
        "multi = lambda num : [num*i for i in range(10)]"
      ],
      "metadata": {
        "id": "y0jVK5jp13TQ"
      },
      "execution_count": null,
      "outputs": []
    },
    {
      "cell_type": "code",
      "source": [
        "#17\n",
        "suma= lambda num1,num2:[\"la suma es igual a \"+ str(num1+num2)]"
      ],
      "metadata": {
        "id": "B2lW83y5OpnB"
      },
      "execution_count": null,
      "outputs": []
    },
    {
      "cell_type": "code",
      "source": [
        "#facorial 18\n",
        "factorial = lambda num: [(\"el factorial de\" + str(num) + \"es\" + str(factorial*i)) for i in range (1,num+1)]"
      ],
      "metadata": {
        "id": "po41eAS9OqAb"
      },
      "execution_count": null,
      "outputs": []
    },
    {
      "cell_type": "code",
      "source": [],
      "metadata": {
        "id": "Ph2_hiFMOqJY"
      },
      "execution_count": null,
      "outputs": []
    },
    {
      "cell_type": "code",
      "source": [],
      "metadata": {
        "id": "LpQiUJZuOqQc"
      },
      "execution_count": null,
      "outputs": []
    }
  ]
}